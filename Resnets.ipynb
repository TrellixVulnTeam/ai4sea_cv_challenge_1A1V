{
 "cells": [
  {
   "cell_type": "code",
   "execution_count": 1,
   "metadata": {},
   "outputs": [],
   "source": [
    "from pathlib import Path\n",
    "import matplotlib.pyplot as plt\n",
    "import numpy as np\n",
    "import scipy.io\n",
    "import pandas as pd\n",
    "import PIL\n",
    "import time\n",
    "import os\n",
    "from helper import get_car_paths, get_cars_df\n",
    "import random\n",
    "from sklearn.model_selection import train_test_split"
   ]
  },
  {
   "cell_type": "code",
   "execution_count": 2,
   "metadata": {},
   "outputs": [],
   "source": [
    "import torch\n",
    "from torch.utils.data import Dataset, DataLoader\n",
    "from torchvision import datasets, models, transforms\n",
    "from torch import nn\n",
    "import torch.optim as optim\n",
    "\n",
    "from fastai import *\n",
    "from fastai.vision import *"
   ]
  },
  {
   "cell_type": "code",
   "execution_count": 3,
   "metadata": {},
   "outputs": [],
   "source": [
    "def seed_all(seed=42):\n",
    "    random.seed(seed)\n",
    "    torch.manual_seed(seed)\n",
    "    torch.backends.cudnn.deterministic = True\n",
    "    if torch.cuda.is_available(): \n",
    "        torch.cuda.manual_seed_all(seed)\n",
    "    np.random.seed(seed)\n",
    "\n",
    "seed_all(seed=42)"
   ]
  },
  {
   "cell_type": "markdown",
   "metadata": {},
   "source": [
    "# Download and Untar Data"
   ]
  },
  {
   "cell_type": "code",
   "execution_count": 4,
   "metadata": {},
   "outputs": [],
   "source": [
    "train_path, test_path = get_car_paths()\n",
    "train_df = get_cars_df('cars_train_annos.mat')\n",
    "test_df = get_cars_df('cars_test_annos_withlabels.mat')"
   ]
  },
  {
   "cell_type": "code",
   "execution_count": 5,
   "metadata": {},
   "outputs": [],
   "source": [
    "tfms = get_transforms()\n",
    "sz = (300, 300)    #Squish Resize if a tuple is defined\n",
    "bs = 32\n",
    "img_data = ImageDataBunch.from_df(train_path, train_df,\n",
    "                                  ds_tfms=tfms, size=sz, fn_col=0, label_col=1, valid_pct=0.2, bs=bs)\n",
    "img_data_test = ImageDataBunch.from_df(test_path, test_df,\n",
    "                                  ds_tfms=None, size=sz, fn_col=0, label_col=1, valid_pct=0., bs=bs)"
   ]
  },
  {
   "cell_type": "markdown",
   "metadata": {
    "heading_collapsed": true
   },
   "source": [
    "# Resnet50 40 Epochs"
   ]
  },
  {
   "cell_type": "code",
   "execution_count": 6,
   "metadata": {
    "hidden": true
   },
   "outputs": [
    {
     "name": "stdout",
     "output_type": "stream",
     "text": [
      "name 'learn' is not defined\n"
     ]
    }
   ],
   "source": [
    "try:\n",
    "    learn.destroy()\n",
    "    del learn\n",
    "    gc.collect()\n",
    "except Exception as e:\n",
    "    print(e)"
   ]
  },
  {
   "cell_type": "code",
   "execution_count": 7,
   "metadata": {
    "hidden": true
   },
   "outputs": [],
   "source": [
    "learn = cnn_learner(img_data, models.resnet50, metrics=[accuracy], loss_func=nn.CrossEntropyLoss(), path='.', callback_fns=ShowGraph)\n",
    "learn = learn.to_fp16()\n",
    "learn.unfreeze()"
   ]
  },
  {
   "cell_type": "code",
   "execution_count": 8,
   "metadata": {
    "hidden": true
   },
   "outputs": [
    {
     "data": {
      "text/html": [],
      "text/plain": [
       "<IPython.core.display.HTML object>"
      ]
     },
     "metadata": {},
     "output_type": "display_data"
    },
    {
     "name": "stdout",
     "output_type": "stream",
     "text": [
      "LR Finder is complete, type {learner_name}.recorder.plot() to see the graph.\n"
     ]
    },
    {
     "data": {
      "image/png": "[encoded data removed]",
      "text/plain": [
       "<Figure size 432x288 with 1 Axes>"
      ]
     },
     "metadata": {
      "needs_background": "light"
     },
     "output_type": "display_data"
    }
   ],
   "source": [
    "learn.lr_find()\n",
    "learn.recorder.plot()"
   ]
  },
  {
   "cell_type": "code",
   "execution_count": 8,
   "metadata": {
    "hidden": true
   },
   "outputs": [
    {
     "data": {
      "text/html": [
       "<table border=\"1\" class=\"dataframe\">\n",
       "  <thead>\n",
       "    <tr style=\"text-align: left;\">\n",
       "      <th>epoch</th>\n",
       "      <th>train_loss</th>\n",
       "      <th>valid_loss</th>\n",
       "      <th>accuracy</th>\n",
       "      <th>time</th>\n",
       "    </tr>\n",
       "  </thead>\n",
       "  <tbody>\n",
       "    <tr>\n",
       "      <td>0</td>\n",
       "      <td>5.374745</td>\n",
       "      <td>4.702300</td>\n",
       "      <td>0.059582</td>\n",
       "      <td>01:05</td>\n",
       "    </tr>\n",
       "    <tr>\n",
       "      <td>1</td>\n",
       "      <td>4.405979</td>\n",
       "      <td>3.723193</td>\n",
       "      <td>0.242629</td>\n",
       "      <td>00:59</td>\n",
       "    </tr>\n",
       "    <tr>\n",
       "      <td>2</td>\n",
       "      <td>3.439816</td>\n",
       "      <td>2.826217</td>\n",
       "      <td>0.390663</td>\n",
       "      <td>00:59</td>\n",
       "    </tr>\n",
       "    <tr>\n",
       "      <td>3</td>\n",
       "      <td>2.715753</td>\n",
       "      <td>2.384687</td>\n",
       "      <td>0.452703</td>\n",
       "      <td>00:59</td>\n",
       "    </tr>\n",
       "    <tr>\n",
       "      <td>4</td>\n",
       "      <td>2.155941</td>\n",
       "      <td>2.064987</td>\n",
       "      <td>0.531941</td>\n",
       "      <td>00:59</td>\n",
       "    </tr>\n",
       "    <tr>\n",
       "      <td>5</td>\n",
       "      <td>1.958253</td>\n",
       "      <td>2.358379</td>\n",
       "      <td>0.433047</td>\n",
       "      <td>01:00</td>\n",
       "    </tr>\n",
       "    <tr>\n",
       "      <td>6</td>\n",
       "      <td>1.818895</td>\n",
       "      <td>2.223970</td>\n",
       "      <td>0.418919</td>\n",
       "      <td>01:00</td>\n",
       "    </tr>\n",
       "    <tr>\n",
       "      <td>7</td>\n",
       "      <td>1.661903</td>\n",
       "      <td>1.732421</td>\n",
       "      <td>0.539312</td>\n",
       "      <td>01:00</td>\n",
       "    </tr>\n",
       "    <tr>\n",
       "      <td>8</td>\n",
       "      <td>1.490926</td>\n",
       "      <td>2.274279</td>\n",
       "      <td>0.438575</td>\n",
       "      <td>00:59</td>\n",
       "    </tr>\n",
       "    <tr>\n",
       "      <td>9</td>\n",
       "      <td>1.383215</td>\n",
       "      <td>1.442426</td>\n",
       "      <td>0.627150</td>\n",
       "      <td>00:59</td>\n",
       "    </tr>\n",
       "    <tr>\n",
       "      <td>10</td>\n",
       "      <td>1.178759</td>\n",
       "      <td>1.531196</td>\n",
       "      <td>0.584152</td>\n",
       "      <td>01:00</td>\n",
       "    </tr>\n",
       "    <tr>\n",
       "      <td>11</td>\n",
       "      <td>1.011047</td>\n",
       "      <td>1.356414</td>\n",
       "      <td>0.614865</td>\n",
       "      <td>00:59</td>\n",
       "    </tr>\n",
       "    <tr>\n",
       "      <td>12</td>\n",
       "      <td>1.013693</td>\n",
       "      <td>1.390373</td>\n",
       "      <td>0.622236</td>\n",
       "      <td>00:59</td>\n",
       "    </tr>\n",
       "    <tr>\n",
       "      <td>13</td>\n",
       "      <td>0.802129</td>\n",
       "      <td>1.242072</td>\n",
       "      <td>0.662162</td>\n",
       "      <td>01:00</td>\n",
       "    </tr>\n",
       "    <tr>\n",
       "      <td>14</td>\n",
       "      <td>0.721415</td>\n",
       "      <td>1.346756</td>\n",
       "      <td>0.638821</td>\n",
       "      <td>00:59</td>\n",
       "    </tr>\n",
       "    <tr>\n",
       "      <td>15</td>\n",
       "      <td>0.656496</td>\n",
       "      <td>1.031274</td>\n",
       "      <td>0.719287</td>\n",
       "      <td>00:59</td>\n",
       "    </tr>\n",
       "    <tr>\n",
       "      <td>16</td>\n",
       "      <td>0.541166</td>\n",
       "      <td>1.152954</td>\n",
       "      <td>0.684275</td>\n",
       "      <td>00:59</td>\n",
       "    </tr>\n",
       "    <tr>\n",
       "      <td>17</td>\n",
       "      <td>0.515682</td>\n",
       "      <td>0.898652</td>\n",
       "      <td>0.756142</td>\n",
       "      <td>00:59</td>\n",
       "    </tr>\n",
       "    <tr>\n",
       "      <td>18</td>\n",
       "      <td>0.406771</td>\n",
       "      <td>0.910752</td>\n",
       "      <td>0.767813</td>\n",
       "      <td>00:58</td>\n",
       "    </tr>\n",
       "    <tr>\n",
       "      <td>19</td>\n",
       "      <td>0.383407</td>\n",
       "      <td>0.858583</td>\n",
       "      <td>0.765356</td>\n",
       "      <td>00:58</td>\n",
       "    </tr>\n",
       "    <tr>\n",
       "      <td>20</td>\n",
       "      <td>0.325169</td>\n",
       "      <td>0.951163</td>\n",
       "      <td>0.738329</td>\n",
       "      <td>01:00</td>\n",
       "    </tr>\n",
       "    <tr>\n",
       "      <td>21</td>\n",
       "      <td>0.286288</td>\n",
       "      <td>0.777000</td>\n",
       "      <td>0.789312</td>\n",
       "      <td>01:00</td>\n",
       "    </tr>\n",
       "    <tr>\n",
       "      <td>22</td>\n",
       "      <td>0.244023</td>\n",
       "      <td>0.715532</td>\n",
       "      <td>0.818796</td>\n",
       "      <td>01:00</td>\n",
       "    </tr>\n",
       "    <tr>\n",
       "      <td>23</td>\n",
       "      <td>0.209507</td>\n",
       "      <td>0.690435</td>\n",
       "      <td>0.823096</td>\n",
       "      <td>01:00</td>\n",
       "    </tr>\n",
       "    <tr>\n",
       "      <td>24</td>\n",
       "      <td>0.192238</td>\n",
       "      <td>0.631828</td>\n",
       "      <td>0.829853</td>\n",
       "      <td>01:01</td>\n",
       "    </tr>\n",
       "    <tr>\n",
       "      <td>25</td>\n",
       "      <td>0.165108</td>\n",
       "      <td>0.649762</td>\n",
       "      <td>0.831695</td>\n",
       "      <td>01:01</td>\n",
       "    </tr>\n",
       "    <tr>\n",
       "      <td>26</td>\n",
       "      <td>0.150696</td>\n",
       "      <td>0.592762</td>\n",
       "      <td>0.851351</td>\n",
       "      <td>01:00</td>\n",
       "    </tr>\n",
       "    <tr>\n",
       "      <td>27</td>\n",
       "      <td>0.106460</td>\n",
       "      <td>0.544761</td>\n",
       "      <td>0.851351</td>\n",
       "      <td>01:00</td>\n",
       "    </tr>\n",
       "    <tr>\n",
       "      <td>28</td>\n",
       "      <td>0.082508</td>\n",
       "      <td>0.505011</td>\n",
       "      <td>0.874693</td>\n",
       "      <td>01:00</td>\n",
       "    </tr>\n",
       "    <tr>\n",
       "      <td>29</td>\n",
       "      <td>0.076096</td>\n",
       "      <td>0.536369</td>\n",
       "      <td>0.864865</td>\n",
       "      <td>01:00</td>\n",
       "    </tr>\n",
       "    <tr>\n",
       "      <td>30</td>\n",
       "      <td>0.051977</td>\n",
       "      <td>0.490274</td>\n",
       "      <td>0.870393</td>\n",
       "      <td>01:00</td>\n",
       "    </tr>\n",
       "    <tr>\n",
       "      <td>31</td>\n",
       "      <td>0.056268</td>\n",
       "      <td>0.491171</td>\n",
       "      <td>0.878378</td>\n",
       "      <td>01:00</td>\n",
       "    </tr>\n",
       "    <tr>\n",
       "      <td>32</td>\n",
       "      <td>0.034123</td>\n",
       "      <td>0.442753</td>\n",
       "      <td>0.886364</td>\n",
       "      <td>00:59</td>\n",
       "    </tr>\n",
       "    <tr>\n",
       "      <td>33</td>\n",
       "      <td>0.029164</td>\n",
       "      <td>0.452515</td>\n",
       "      <td>0.889435</td>\n",
       "      <td>01:00</td>\n",
       "    </tr>\n",
       "    <tr>\n",
       "      <td>34</td>\n",
       "      <td>0.026877</td>\n",
       "      <td>0.441610</td>\n",
       "      <td>0.888206</td>\n",
       "      <td>01:00</td>\n",
       "    </tr>\n",
       "    <tr>\n",
       "      <td>35</td>\n",
       "      <td>0.023849</td>\n",
       "      <td>0.433025</td>\n",
       "      <td>0.896806</td>\n",
       "      <td>01:00</td>\n",
       "    </tr>\n",
       "    <tr>\n",
       "      <td>36</td>\n",
       "      <td>0.020703</td>\n",
       "      <td>0.427121</td>\n",
       "      <td>0.894963</td>\n",
       "      <td>01:01</td>\n",
       "    </tr>\n",
       "    <tr>\n",
       "      <td>37</td>\n",
       "      <td>0.017309</td>\n",
       "      <td>0.425218</td>\n",
       "      <td>0.898034</td>\n",
       "      <td>01:01</td>\n",
       "    </tr>\n",
       "    <tr>\n",
       "      <td>38</td>\n",
       "      <td>0.018525</td>\n",
       "      <td>0.427552</td>\n",
       "      <td>0.896192</td>\n",
       "      <td>00:58</td>\n",
       "    </tr>\n",
       "    <tr>\n",
       "      <td>39</td>\n",
       "      <td>0.017501</td>\n",
       "      <td>0.427915</td>\n",
       "      <td>0.896192</td>\n",
       "      <td>01:00</td>\n",
       "    </tr>\n",
       "  </tbody>\n",
       "</table>"
      ],
      "text/plain": [
       "<IPython.core.display.HTML object>"
      ]
     },
     "metadata": {},
     "output_type": "display_data"
    },
    {
     "data": {
      "image/png": "[encoded data removed]",
      "text/plain": [
       "<Figure size 432x288 with 1 Axes>"
      ]
     },
     "metadata": {},
     "output_type": "display_data"
    }
   ],
   "source": [
    "lr = 1e-3\n",
    "wd = 1e-1\n",
    "learn.fit_one_cycle(40, max_lr=lr, wd=wd)\n",
    "# learn.fit_one_cycle(20, slice(lr/10, lr))"
   ]
  },
  {
   "cell_type": "code",
   "execution_count": 9,
   "metadata": {
    "hidden": true
   },
   "outputs": [],
   "source": [
    "learn.save('res50_40epochs')"
   ]
  },
  {
   "cell_type": "markdown",
   "metadata": {
    "heading_collapsed": true
   },
   "source": [
    "# Resnet50 20 Epochs bs 64"
   ]
  },
  {
   "cell_type": "code",
   "execution_count": 6,
   "metadata": {
    "hidden": true
   },
   "outputs": [
    {
     "name": "stdout",
     "output_type": "stream",
     "text": [
      "name 'learn' is not defined\n"
     ]
    }
   ],
   "source": [
    "try:\n",
    "    learn.destroy()\n",
    "    del learn\n",
    "    gc.collect()\n",
    "except Exception as e:\n",
    "    print(e)"
   ]
  },
  {
   "cell_type": "code",
   "execution_count": 7,
   "metadata": {
    "hidden": true
   },
   "outputs": [],
   "source": [
    "tfms = get_transforms()\n",
    "sz = (300, 300)    #Squish Resize if a tuple is defined\n",
    "bs = 64\n",
    "img_data = ImageDataBunch.from_df(train_path, train_df,\n",
    "                                  ds_tfms=tfms, size=sz, fn_col=0, label_col=1, valid_pct=0.2, bs=bs)\n",
    "img_data_test = ImageDataBunch.from_df(test_path, test_df,\n",
    "                                  ds_tfms=None, size=sz, fn_col=0, label_col=1, valid_pct=0., bs=bs)"
   ]
  },
  {
   "cell_type": "code",
   "execution_count": 8,
   "metadata": {
    "hidden": true
   },
   "outputs": [],
   "source": [
    "learn = cnn_learner(img_data, models.resnet50, metrics=[accuracy], loss_func=nn.CrossEntropyLoss(), path='.', callback_fns=ShowGraph)\n",
    "learn = learn.to_fp16()\n",
    "learn.unfreeze()"
   ]
  },
  {
   "cell_type": "code",
   "execution_count": 9,
   "metadata": {
    "hidden": true
   },
   "outputs": [
    {
     "data": {
      "text/html": [],
      "text/plain": [
       "<IPython.core.display.HTML object>"
      ]
     },
     "metadata": {},
     "output_type": "display_data"
    },
    {
     "name": "stdout",
     "output_type": "stream",
     "text": [
      "LR Finder is complete, type {learner_name}.recorder.plot() to see the graph.\n"
     ]
    },
    {
     "data": {
      "image/png": "[encoded data removed]",
      "text/plain": [
       "<Figure size 432x288 with 1 Axes>"
      ]
     },
     "metadata": {
      "needs_background": "light"
     },
     "output_type": "display_data"
    }
   ],
   "source": [
    "learn.lr_find()\n",
    "learn.recorder.plot()"
   ]
  },
  {
   "cell_type": "code",
   "execution_count": 10,
   "metadata": {
    "hidden": true,
    "scrolled": true
   },
   "outputs": [
    {
     "data": {
      "text/html": [
       "<table border=\"1\" class=\"dataframe\">\n",
       "  <thead>\n",
       "    <tr style=\"text-align: left;\">\n",
       "      <th>epoch</th>\n",
       "      <th>train_loss</th>\n",
       "      <th>valid_loss</th>\n",
       "      <th>accuracy</th>\n",
       "      <th>time</th>\n",
       "    </tr>\n",
       "  </thead>\n",
       "  <tbody>\n",
       "    <tr>\n",
       "      <td>0</td>\n",
       "      <td>5.266619</td>\n",
       "      <td>4.478752</td>\n",
       "      <td>0.093366</td>\n",
       "      <td>00:56</td>\n",
       "    </tr>\n",
       "    <tr>\n",
       "      <td>1</td>\n",
       "      <td>4.009206</td>\n",
       "      <td>3.396544</td>\n",
       "      <td>0.254914</td>\n",
       "      <td>00:54</td>\n",
       "    </tr>\n",
       "    <tr>\n",
       "      <td>2</td>\n",
       "      <td>3.053596</td>\n",
       "      <td>3.190016</td>\n",
       "      <td>0.246314</td>\n",
       "      <td>00:55</td>\n",
       "    </tr>\n",
       "    <tr>\n",
       "      <td>3</td>\n",
       "      <td>2.614724</td>\n",
       "      <td>3.919404</td>\n",
       "      <td>0.149263</td>\n",
       "      <td>00:54</td>\n",
       "    </tr>\n",
       "    <tr>\n",
       "      <td>4</td>\n",
       "      <td>2.419623</td>\n",
       "      <td>3.134071</td>\n",
       "      <td>0.231572</td>\n",
       "      <td>00:54</td>\n",
       "    </tr>\n",
       "    <tr>\n",
       "      <td>5</td>\n",
       "      <td>2.029357</td>\n",
       "      <td>3.861951</td>\n",
       "      <td>0.181204</td>\n",
       "      <td>00:54</td>\n",
       "    </tr>\n",
       "    <tr>\n",
       "      <td>6</td>\n",
       "      <td>1.711986</td>\n",
       "      <td>2.216925</td>\n",
       "      <td>0.409091</td>\n",
       "      <td>00:54</td>\n",
       "    </tr>\n",
       "    <tr>\n",
       "      <td>7</td>\n",
       "      <td>1.446769</td>\n",
       "      <td>1.844522</td>\n",
       "      <td>0.518427</td>\n",
       "      <td>00:54</td>\n",
       "    </tr>\n",
       "    <tr>\n",
       "      <td>8</td>\n",
       "      <td>1.205150</td>\n",
       "      <td>1.796127</td>\n",
       "      <td>0.529484</td>\n",
       "      <td>00:54</td>\n",
       "    </tr>\n",
       "    <tr>\n",
       "      <td>9</td>\n",
       "      <td>1.042216</td>\n",
       "      <td>1.575210</td>\n",
       "      <td>0.555897</td>\n",
       "      <td>00:54</td>\n",
       "    </tr>\n",
       "    <tr>\n",
       "      <td>10</td>\n",
       "      <td>0.827840</td>\n",
       "      <td>1.324057</td>\n",
       "      <td>0.642506</td>\n",
       "      <td>00:54</td>\n",
       "    </tr>\n",
       "    <tr>\n",
       "      <td>11</td>\n",
       "      <td>0.648530</td>\n",
       "      <td>1.068819</td>\n",
       "      <td>0.697789</td>\n",
       "      <td>00:54</td>\n",
       "    </tr>\n",
       "    <tr>\n",
       "      <td>12</td>\n",
       "      <td>0.516049</td>\n",
       "      <td>0.945391</td>\n",
       "      <td>0.730958</td>\n",
       "      <td>00:54</td>\n",
       "    </tr>\n",
       "    <tr>\n",
       "      <td>13</td>\n",
       "      <td>0.381705</td>\n",
       "      <td>0.764065</td>\n",
       "      <td>0.778870</td>\n",
       "      <td>00:54</td>\n",
       "    </tr>\n",
       "    <tr>\n",
       "      <td>14</td>\n",
       "      <td>0.274852</td>\n",
       "      <td>0.571713</td>\n",
       "      <td>0.837224</td>\n",
       "      <td>00:54</td>\n",
       "    </tr>\n",
       "    <tr>\n",
       "      <td>15</td>\n",
       "      <td>0.182967</td>\n",
       "      <td>0.482411</td>\n",
       "      <td>0.850123</td>\n",
       "      <td>00:54</td>\n",
       "    </tr>\n",
       "    <tr>\n",
       "      <td>16</td>\n",
       "      <td>0.135486</td>\n",
       "      <td>0.454936</td>\n",
       "      <td>0.876536</td>\n",
       "      <td>00:53</td>\n",
       "    </tr>\n",
       "    <tr>\n",
       "      <td>17</td>\n",
       "      <td>0.103268</td>\n",
       "      <td>0.432423</td>\n",
       "      <td>0.880221</td>\n",
       "      <td>00:54</td>\n",
       "    </tr>\n",
       "    <tr>\n",
       "      <td>18</td>\n",
       "      <td>0.079283</td>\n",
       "      <td>0.418906</td>\n",
       "      <td>0.879607</td>\n",
       "      <td>00:55</td>\n",
       "    </tr>\n",
       "    <tr>\n",
       "      <td>19</td>\n",
       "      <td>0.072651</td>\n",
       "      <td>0.413634</td>\n",
       "      <td>0.882678</td>\n",
       "      <td>00:55</td>\n",
       "    </tr>\n",
       "  </tbody>\n",
       "</table>"
      ],
      "text/plain": [
       "<IPython.core.display.HTML object>"
      ]
     },
     "metadata": {},
     "output_type": "display_data"
    },
    {
     "data": {
      "image/png": "[encoded data removed]",
      "text/plain": [
       "<Figure size 432x288 with 1 Axes>"
      ]
     },
     "metadata": {},
     "output_type": "display_data"
    }
   ],
   "source": [
    "lr = 2e-3\n",
    "wd = 1e-1\n",
    "learn.fit_one_cycle(20, max_lr=lr, wd=wd)\n",
    "# learn.fit_one_cycle(20, slice(lr/10, lr))"
   ]
  },
  {
   "cell_type": "code",
   "execution_count": 9,
   "metadata": {
    "hidden": true
   },
   "outputs": [],
   "source": [
    "learn.save('res50_20epochs_64bs')"
   ]
  },
  {
   "cell_type": "markdown",
   "metadata": {
    "heading_collapsed": true
   },
   "source": [
    "# Resnet50 20 Epochs bs 64 wd 1e-5"
   ]
  },
  {
   "cell_type": "code",
   "execution_count": 16,
   "metadata": {
    "hidden": true
   },
   "outputs": [
    {
     "name": "stdout",
     "output_type": "stream",
     "text": [
      "this Learner object self-destroyed - it still exists, but no longer usable\n"
     ]
    }
   ],
   "source": [
    "try:\n",
    "    learn.destroy()\n",
    "    del learn\n",
    "    gc.collect()\n",
    "except Exception as e:\n",
    "    print(e)"
   ]
  },
  {
   "cell_type": "code",
   "execution_count": 17,
   "metadata": {
    "hidden": true
   },
   "outputs": [],
   "source": [
    "tfms = get_transforms()\n",
    "sz = (300, 300)    #Squish Resize if a tuple is defined\n",
    "bs = 64\n",
    "img_data = ImageDataBunch.from_df(train_path, train_df,\n",
    "                                  ds_tfms=tfms, size=sz, fn_col=0, label_col=1, valid_pct=0.2, bs=bs)\n",
    "img_data_test = ImageDataBunch.from_df(test_path, test_df,\n",
    "                                  ds_tfms=None, size=sz, fn_col=0, label_col=1, valid_pct=0., bs=bs)"
   ]
  },
  {
   "cell_type": "code",
   "execution_count": 18,
   "metadata": {
    "hidden": true
   },
   "outputs": [],
   "source": [
    "learn = cnn_learner(img_data, models.resnet50, metrics=[accuracy], loss_func=nn.CrossEntropyLoss(), path='.', callback_fns=ShowGraph)\n",
    "learn = learn.to_fp16()\n",
    "learn.unfreeze()"
   ]
  },
  {
   "cell_type": "code",
   "execution_count": 19,
   "metadata": {
    "hidden": true,
    "scrolled": true
   },
   "outputs": [
    {
     "data": {
      "text/html": [
       "<table border=\"1\" class=\"dataframe\">\n",
       "  <thead>\n",
       "    <tr style=\"text-align: left;\">\n",
       "      <th>epoch</th>\n",
       "      <th>train_loss</th>\n",
       "      <th>valid_loss</th>\n",
       "      <th>accuracy</th>\n",
       "      <th>time</th>\n",
       "    </tr>\n",
       "  </thead>\n",
       "  <tbody>\n",
       "    <tr>\n",
       "      <td>0</td>\n",
       "      <td>5.160089</td>\n",
       "      <td>4.398180</td>\n",
       "      <td>0.092752</td>\n",
       "      <td>00:54</td>\n",
       "    </tr>\n",
       "    <tr>\n",
       "      <td>1</td>\n",
       "      <td>3.938014</td>\n",
       "      <td>3.369240</td>\n",
       "      <td>0.258600</td>\n",
       "      <td>00:55</td>\n",
       "    </tr>\n",
       "    <tr>\n",
       "      <td>2</td>\n",
       "      <td>2.948314</td>\n",
       "      <td>3.179510</td>\n",
       "      <td>0.273342</td>\n",
       "      <td>00:55</td>\n",
       "    </tr>\n",
       "    <tr>\n",
       "      <td>3</td>\n",
       "      <td>2.596850</td>\n",
       "      <td>4.852266</td>\n",
       "      <td>0.095209</td>\n",
       "      <td>00:54</td>\n",
       "    </tr>\n",
       "    <tr>\n",
       "      <td>4</td>\n",
       "      <td>2.393351</td>\n",
       "      <td>4.262276</td>\n",
       "      <td>0.152334</td>\n",
       "      <td>00:54</td>\n",
       "    </tr>\n",
       "    <tr>\n",
       "      <td>5</td>\n",
       "      <td>2.069522</td>\n",
       "      <td>3.139378</td>\n",
       "      <td>0.281327</td>\n",
       "      <td>00:54</td>\n",
       "    </tr>\n",
       "    <tr>\n",
       "      <td>6</td>\n",
       "      <td>1.691511</td>\n",
       "      <td>2.730028</td>\n",
       "      <td>0.348894</td>\n",
       "      <td>00:55</td>\n",
       "    </tr>\n",
       "    <tr>\n",
       "      <td>7</td>\n",
       "      <td>1.405698</td>\n",
       "      <td>1.697314</td>\n",
       "      <td>0.547297</td>\n",
       "      <td>00:55</td>\n",
       "    </tr>\n",
       "    <tr>\n",
       "      <td>8</td>\n",
       "      <td>1.199085</td>\n",
       "      <td>1.527501</td>\n",
       "      <td>0.580467</td>\n",
       "      <td>00:54</td>\n",
       "    </tr>\n",
       "    <tr>\n",
       "      <td>9</td>\n",
       "      <td>1.015354</td>\n",
       "      <td>1.396158</td>\n",
       "      <td>0.613022</td>\n",
       "      <td>00:55</td>\n",
       "    </tr>\n",
       "    <tr>\n",
       "      <td>10</td>\n",
       "      <td>0.802486</td>\n",
       "      <td>1.096426</td>\n",
       "      <td>0.692260</td>\n",
       "      <td>00:55</td>\n",
       "    </tr>\n",
       "    <tr>\n",
       "      <td>11</td>\n",
       "      <td>0.645817</td>\n",
       "      <td>0.841830</td>\n",
       "      <td>0.761056</td>\n",
       "      <td>00:54</td>\n",
       "    </tr>\n",
       "    <tr>\n",
       "      <td>12</td>\n",
       "      <td>0.474706</td>\n",
       "      <td>0.715963</td>\n",
       "      <td>0.802211</td>\n",
       "      <td>00:55</td>\n",
       "    </tr>\n",
       "    <tr>\n",
       "      <td>13</td>\n",
       "      <td>0.348804</td>\n",
       "      <td>0.573933</td>\n",
       "      <td>0.834767</td>\n",
       "      <td>00:55</td>\n",
       "    </tr>\n",
       "    <tr>\n",
       "      <td>14</td>\n",
       "      <td>0.269432</td>\n",
       "      <td>0.469561</td>\n",
       "      <td>0.869165</td>\n",
       "      <td>00:55</td>\n",
       "    </tr>\n",
       "    <tr>\n",
       "      <td>15</td>\n",
       "      <td>0.185444</td>\n",
       "      <td>0.420101</td>\n",
       "      <td>0.882678</td>\n",
       "      <td>00:54</td>\n",
       "    </tr>\n",
       "    <tr>\n",
       "      <td>16</td>\n",
       "      <td>0.144011</td>\n",
       "      <td>0.380641</td>\n",
       "      <td>0.895577</td>\n",
       "      <td>00:54</td>\n",
       "    </tr>\n",
       "    <tr>\n",
       "      <td>17</td>\n",
       "      <td>0.100263</td>\n",
       "      <td>0.360795</td>\n",
       "      <td>0.900491</td>\n",
       "      <td>00:55</td>\n",
       "    </tr>\n",
       "    <tr>\n",
       "      <td>18</td>\n",
       "      <td>0.085137</td>\n",
       "      <td>0.350683</td>\n",
       "      <td>0.903563</td>\n",
       "      <td>00:55</td>\n",
       "    </tr>\n",
       "    <tr>\n",
       "      <td>19</td>\n",
       "      <td>0.071246</td>\n",
       "      <td>0.349884</td>\n",
       "      <td>0.904177</td>\n",
       "      <td>00:54</td>\n",
       "    </tr>\n",
       "  </tbody>\n",
       "</table>"
      ],
      "text/plain": [
       "<IPython.core.display.HTML object>"
      ]
     },
     "metadata": {},
     "output_type": "display_data"
    },
    {
     "data": {
      "image/png": "[encoded data removed]",
      "text/plain": [
       "<Figure size 432x288 with 1 Axes>"
      ]
     },
     "metadata": {},
     "output_type": "display_data"
    }
   ],
   "source": [
    "lr = 2e-3\n",
    "wd = 1e-5\n",
    "learn.fit_one_cycle(20, max_lr=lr, wd=wd)\n",
    "# learn.fit_one_cycle(20, slice(lr/10, lr))"
   ]
  },
  {
   "cell_type": "code",
   "execution_count": 20,
   "metadata": {
    "hidden": true
   },
   "outputs": [],
   "source": [
    "learn.save('res50_20epochs_64bs_wd1e-5')"
   ]
  },
  {
   "cell_type": "markdown",
   "metadata": {
    "heading_collapsed": true
   },
   "source": [
    "# Resnet50 20 Epochs bs 64, size=224x224"
   ]
  },
  {
   "cell_type": "code",
   "execution_count": 12,
   "metadata": {
    "hidden": true
   },
   "outputs": [
    {
     "name": "stdout",
     "output_type": "stream",
     "text": [
      "this Learner object self-destroyed - it still exists, but no longer usable\n"
     ]
    }
   ],
   "source": [
    "try:\n",
    "    learn.destroy()\n",
    "    del learn\n",
    "    gc.collect()\n",
    "except Exception as e:\n",
    "    print(e)"
   ]
  },
  {
   "cell_type": "code",
   "execution_count": 13,
   "metadata": {
    "hidden": true
   },
   "outputs": [],
   "source": [
    "tfms = get_transforms()\n",
    "sz = (224, 224)    #Squish Resize if a tuple is defined\n",
    "bs = 64\n",
    "img_data = ImageDataBunch.from_df(train_path, train_df,\n",
    "                                  ds_tfms=tfms, size=sz, fn_col=0, label_col=1, valid_pct=0.2, bs=bs)\n",
    "img_data_test = ImageDataBunch.from_df(test_path, test_df,\n",
    "                                  ds_tfms=None, size=sz, fn_col=0, label_col=1, valid_pct=0., bs=bs)"
   ]
  },
  {
   "cell_type": "code",
   "execution_count": 14,
   "metadata": {
    "hidden": true
   },
   "outputs": [],
   "source": [
    "learn = cnn_learner(img_data, models.resnet50, metrics=[accuracy], loss_func=nn.CrossEntropyLoss(), path='.', callback_fns=ShowGraph)\n",
    "learn = learn.to_fp16()\n",
    "learn.unfreeze()"
   ]
  },
  {
   "cell_type": "code",
   "execution_count": 15,
   "metadata": {
    "hidden": true,
    "scrolled": true
   },
   "outputs": [
    {
     "data": {
      "text/html": [
       "<table border=\"1\" class=\"dataframe\">\n",
       "  <thead>\n",
       "    <tr style=\"text-align: left;\">\n",
       "      <th>epoch</th>\n",
       "      <th>train_loss</th>\n",
       "      <th>valid_loss</th>\n",
       "      <th>accuracy</th>\n",
       "      <th>time</th>\n",
       "    </tr>\n",
       "  </thead>\n",
       "  <tbody>\n",
       "    <tr>\n",
       "      <td>0</td>\n",
       "      <td>5.262793</td>\n",
       "      <td>4.434870</td>\n",
       "      <td>0.100123</td>\n",
       "      <td>00:43</td>\n",
       "    </tr>\n",
       "    <tr>\n",
       "      <td>1</td>\n",
       "      <td>4.095778</td>\n",
       "      <td>3.516619</td>\n",
       "      <td>0.218059</td>\n",
       "      <td>00:40</td>\n",
       "    </tr>\n",
       "    <tr>\n",
       "      <td>2</td>\n",
       "      <td>3.247416</td>\n",
       "      <td>3.333811</td>\n",
       "      <td>0.221130</td>\n",
       "      <td>00:40</td>\n",
       "    </tr>\n",
       "    <tr>\n",
       "      <td>3</td>\n",
       "      <td>2.944893</td>\n",
       "      <td>3.768213</td>\n",
       "      <td>0.165233</td>\n",
       "      <td>00:40</td>\n",
       "    </tr>\n",
       "    <tr>\n",
       "      <td>4</td>\n",
       "      <td>2.687114</td>\n",
       "      <td>3.883756</td>\n",
       "      <td>0.157248</td>\n",
       "      <td>00:41</td>\n",
       "    </tr>\n",
       "    <tr>\n",
       "      <td>5</td>\n",
       "      <td>2.461197</td>\n",
       "      <td>3.084675</td>\n",
       "      <td>0.271499</td>\n",
       "      <td>00:40</td>\n",
       "    </tr>\n",
       "    <tr>\n",
       "      <td>6</td>\n",
       "      <td>2.051124</td>\n",
       "      <td>2.820350</td>\n",
       "      <td>0.312039</td>\n",
       "      <td>00:40</td>\n",
       "    </tr>\n",
       "    <tr>\n",
       "      <td>7</td>\n",
       "      <td>1.776286</td>\n",
       "      <td>2.928091</td>\n",
       "      <td>0.292383</td>\n",
       "      <td>00:41</td>\n",
       "    </tr>\n",
       "    <tr>\n",
       "      <td>8</td>\n",
       "      <td>1.506207</td>\n",
       "      <td>2.151350</td>\n",
       "      <td>0.445946</td>\n",
       "      <td>00:41</td>\n",
       "    </tr>\n",
       "    <tr>\n",
       "      <td>9</td>\n",
       "      <td>1.236154</td>\n",
       "      <td>2.012717</td>\n",
       "      <td>0.457617</td>\n",
       "      <td>00:41</td>\n",
       "    </tr>\n",
       "    <tr>\n",
       "      <td>10</td>\n",
       "      <td>1.043022</td>\n",
       "      <td>1.446911</td>\n",
       "      <td>0.594595</td>\n",
       "      <td>00:40</td>\n",
       "    </tr>\n",
       "    <tr>\n",
       "      <td>11</td>\n",
       "      <td>0.844119</td>\n",
       "      <td>1.378327</td>\n",
       "      <td>0.626536</td>\n",
       "      <td>00:40</td>\n",
       "    </tr>\n",
       "    <tr>\n",
       "      <td>12</td>\n",
       "      <td>0.669600</td>\n",
       "      <td>1.532369</td>\n",
       "      <td>0.598894</td>\n",
       "      <td>00:41</td>\n",
       "    </tr>\n",
       "    <tr>\n",
       "      <td>13</td>\n",
       "      <td>0.497850</td>\n",
       "      <td>0.857091</td>\n",
       "      <td>0.748157</td>\n",
       "      <td>00:41</td>\n",
       "    </tr>\n",
       "    <tr>\n",
       "      <td>14</td>\n",
       "      <td>0.359276</td>\n",
       "      <td>0.709285</td>\n",
       "      <td>0.803440</td>\n",
       "      <td>00:41</td>\n",
       "    </tr>\n",
       "    <tr>\n",
       "      <td>15</td>\n",
       "      <td>0.283347</td>\n",
       "      <td>0.621630</td>\n",
       "      <td>0.822482</td>\n",
       "      <td>00:40</td>\n",
       "    </tr>\n",
       "    <tr>\n",
       "      <td>16</td>\n",
       "      <td>0.201911</td>\n",
       "      <td>0.567935</td>\n",
       "      <td>0.843366</td>\n",
       "      <td>00:41</td>\n",
       "    </tr>\n",
       "    <tr>\n",
       "      <td>17</td>\n",
       "      <td>0.154853</td>\n",
       "      <td>0.521709</td>\n",
       "      <td>0.851966</td>\n",
       "      <td>00:41</td>\n",
       "    </tr>\n",
       "    <tr>\n",
       "      <td>18</td>\n",
       "      <td>0.122985</td>\n",
       "      <td>0.513597</td>\n",
       "      <td>0.848280</td>\n",
       "      <td>00:41</td>\n",
       "    </tr>\n",
       "    <tr>\n",
       "      <td>19</td>\n",
       "      <td>0.111027</td>\n",
       "      <td>0.510887</td>\n",
       "      <td>0.847666</td>\n",
       "      <td>00:41</td>\n",
       "    </tr>\n",
       "  </tbody>\n",
       "</table>"
      ],
      "text/plain": [
       "<IPython.core.display.HTML object>"
      ]
     },
     "metadata": {},
     "output_type": "display_data"
    },
    {
     "data": {
      "image/png": "[encoded data removed]",
      "text/plain": [
       "<Figure size 432x288 with 1 Axes>"
      ]
     },
     "metadata": {},
     "output_type": "display_data"
    }
   ],
   "source": [
    "lr = 2e-3\n",
    "wd = 1e-1\n",
    "learn.fit_one_cycle(20, max_lr=lr, wd=wd)\n",
    "# learn.fit_one_cycle(20, slice(lr/10, lr))"
   ]
  },
  {
   "cell_type": "code",
   "execution_count": 11,
   "metadata": {
    "hidden": true
   },
   "outputs": [],
   "source": [
    "learn.save('res50_20epochs_64bs_sz224x224')"
   ]
  },
  {
   "cell_type": "markdown",
   "metadata": {
    "heading_collapsed": true
   },
   "source": [
    "# Resnet50 20 Epochs bs 64, size=224, max_zoom=1.05, wd=1e-3, lr=slice(lr/10, lr)"
   ]
  },
  {
   "cell_type": "code",
   "execution_count": 6,
   "metadata": {
    "hidden": true
   },
   "outputs": [
    {
     "name": "stdout",
     "output_type": "stream",
     "text": [
      "name 'learn' is not defined\n"
     ]
    }
   ],
   "source": [
    "try:\n",
    "    learn.destroy()\n",
    "    del learn\n",
    "    gc.collect()\n",
    "except Exception as e:\n",
    "    print(e)"
   ]
  },
  {
   "cell_type": "code",
   "execution_count": 7,
   "metadata": {
    "hidden": true
   },
   "outputs": [],
   "source": [
    "tfms = get_transforms(max_rotate=20.0, max_zoom=1.05)\n",
    "sz = 224    #Squish Resize if a tuple is defined\n",
    "bs = 64\n",
    "img_data = ImageDataBunch.from_df(train_path, train_df,\n",
    "                                  ds_tfms=tfms, size=sz, fn_col=0, label_col=1, valid_pct=0.2, bs=bs)\n",
    "img_data_test = ImageDataBunch.from_df(test_path, test_df,\n",
    "                                  ds_tfms=None, size=sz, fn_col=0, label_col=1, valid_pct=0., bs=bs)"
   ]
  },
  {
   "cell_type": "code",
   "execution_count": 8,
   "metadata": {
    "hidden": true
   },
   "outputs": [],
   "source": [
    "learn = cnn_learner(img_data, models.resnet50, metrics=[accuracy], loss_func=nn.CrossEntropyLoss(), path='.', callback_fns=ShowGraph)\n",
    "learn = learn.to_fp16()\n",
    "learn.unfreeze()"
   ]
  },
  {
   "cell_type": "code",
   "execution_count": 9,
   "metadata": {
    "hidden": true,
    "scrolled": true
   },
   "outputs": [
    {
     "data": {
      "text/html": [
       "<table border=\"1\" class=\"dataframe\">\n",
       "  <thead>\n",
       "    <tr style=\"text-align: left;\">\n",
       "      <th>epoch</th>\n",
       "      <th>train_loss</th>\n",
       "      <th>valid_loss</th>\n",
       "      <th>accuracy</th>\n",
       "      <th>time</th>\n",
       "    </tr>\n",
       "  </thead>\n",
       "  <tbody>\n",
       "    <tr>\n",
       "      <td>0</td>\n",
       "      <td>5.630437</td>\n",
       "      <td>5.063973</td>\n",
       "      <td>0.028870</td>\n",
       "      <td>00:45</td>\n",
       "    </tr>\n",
       "    <tr>\n",
       "      <td>1</td>\n",
       "      <td>5.055996</td>\n",
       "      <td>4.442995</td>\n",
       "      <td>0.116708</td>\n",
       "      <td>00:45</td>\n",
       "    </tr>\n",
       "    <tr>\n",
       "      <td>2</td>\n",
       "      <td>4.305752</td>\n",
       "      <td>3.696890</td>\n",
       "      <td>0.213759</td>\n",
       "      <td>00:45</td>\n",
       "    </tr>\n",
       "    <tr>\n",
       "      <td>3</td>\n",
       "      <td>3.497288</td>\n",
       "      <td>2.916589</td>\n",
       "      <td>0.367322</td>\n",
       "      <td>00:45</td>\n",
       "    </tr>\n",
       "    <tr>\n",
       "      <td>4</td>\n",
       "      <td>2.653569</td>\n",
       "      <td>2.199481</td>\n",
       "      <td>0.506142</td>\n",
       "      <td>00:45</td>\n",
       "    </tr>\n",
       "    <tr>\n",
       "      <td>5</td>\n",
       "      <td>1.953425</td>\n",
       "      <td>1.594127</td>\n",
       "      <td>0.610565</td>\n",
       "      <td>00:44</td>\n",
       "    </tr>\n",
       "    <tr>\n",
       "      <td>6</td>\n",
       "      <td>1.417806</td>\n",
       "      <td>1.291124</td>\n",
       "      <td>0.657248</td>\n",
       "      <td>00:45</td>\n",
       "    </tr>\n",
       "    <tr>\n",
       "      <td>7</td>\n",
       "      <td>1.106169</td>\n",
       "      <td>1.207094</td>\n",
       "      <td>0.670762</td>\n",
       "      <td>00:44</td>\n",
       "    </tr>\n",
       "    <tr>\n",
       "      <td>8</td>\n",
       "      <td>0.950242</td>\n",
       "      <td>1.256185</td>\n",
       "      <td>0.670147</td>\n",
       "      <td>00:44</td>\n",
       "    </tr>\n",
       "    <tr>\n",
       "      <td>9</td>\n",
       "      <td>0.829560</td>\n",
       "      <td>1.222301</td>\n",
       "      <td>0.652334</td>\n",
       "      <td>00:44</td>\n",
       "    </tr>\n",
       "    <tr>\n",
       "      <td>10</td>\n",
       "      <td>0.758689</td>\n",
       "      <td>1.307667</td>\n",
       "      <td>0.657248</td>\n",
       "      <td>00:44</td>\n",
       "    </tr>\n",
       "    <tr>\n",
       "      <td>11</td>\n",
       "      <td>0.641739</td>\n",
       "      <td>1.166258</td>\n",
       "      <td>0.685504</td>\n",
       "      <td>00:43</td>\n",
       "    </tr>\n",
       "    <tr>\n",
       "      <td>12</td>\n",
       "      <td>0.545058</td>\n",
       "      <td>1.128636</td>\n",
       "      <td>0.703931</td>\n",
       "      <td>00:50</td>\n",
       "    </tr>\n",
       "    <tr>\n",
       "      <td>13</td>\n",
       "      <td>0.496919</td>\n",
       "      <td>1.197454</td>\n",
       "      <td>0.682432</td>\n",
       "      <td>00:45</td>\n",
       "    </tr>\n",
       "    <tr>\n",
       "      <td>14</td>\n",
       "      <td>0.470213</td>\n",
       "      <td>1.119288</td>\n",
       "      <td>0.726658</td>\n",
       "      <td>00:43</td>\n",
       "    </tr>\n",
       "    <tr>\n",
       "      <td>15</td>\n",
       "      <td>0.430750</td>\n",
       "      <td>1.121263</td>\n",
       "      <td>0.722973</td>\n",
       "      <td>00:43</td>\n",
       "    </tr>\n",
       "    <tr>\n",
       "      <td>16</td>\n",
       "      <td>0.375762</td>\n",
       "      <td>0.977298</td>\n",
       "      <td>0.757371</td>\n",
       "      <td>00:44</td>\n",
       "    </tr>\n",
       "    <tr>\n",
       "      <td>17</td>\n",
       "      <td>0.312009</td>\n",
       "      <td>1.001888</td>\n",
       "      <td>0.757985</td>\n",
       "      <td>00:44</td>\n",
       "    </tr>\n",
       "    <tr>\n",
       "      <td>18</td>\n",
       "      <td>0.288390</td>\n",
       "      <td>1.047252</td>\n",
       "      <td>0.744472</td>\n",
       "      <td>00:45</td>\n",
       "    </tr>\n",
       "    <tr>\n",
       "      <td>19</td>\n",
       "      <td>0.273889</td>\n",
       "      <td>1.081463</td>\n",
       "      <td>0.746929</td>\n",
       "      <td>00:44</td>\n",
       "    </tr>\n",
       "    <tr>\n",
       "      <td>20</td>\n",
       "      <td>0.239741</td>\n",
       "      <td>0.878033</td>\n",
       "      <td>0.786855</td>\n",
       "      <td>00:44</td>\n",
       "    </tr>\n",
       "    <tr>\n",
       "      <td>21</td>\n",
       "      <td>0.204242</td>\n",
       "      <td>0.975661</td>\n",
       "      <td>0.769042</td>\n",
       "      <td>00:44</td>\n",
       "    </tr>\n",
       "    <tr>\n",
       "      <td>22</td>\n",
       "      <td>0.175288</td>\n",
       "      <td>0.923019</td>\n",
       "      <td>0.788084</td>\n",
       "      <td>00:44</td>\n",
       "    </tr>\n",
       "    <tr>\n",
       "      <td>23</td>\n",
       "      <td>0.152465</td>\n",
       "      <td>0.885600</td>\n",
       "      <td>0.797297</td>\n",
       "      <td>00:44</td>\n",
       "    </tr>\n",
       "    <tr>\n",
       "      <td>24</td>\n",
       "      <td>0.125561</td>\n",
       "      <td>0.871791</td>\n",
       "      <td>0.804054</td>\n",
       "      <td>00:45</td>\n",
       "    </tr>\n",
       "    <tr>\n",
       "      <td>25</td>\n",
       "      <td>0.107309</td>\n",
       "      <td>0.901838</td>\n",
       "      <td>0.810811</td>\n",
       "      <td>00:45</td>\n",
       "    </tr>\n",
       "    <tr>\n",
       "      <td>26</td>\n",
       "      <td>0.099873</td>\n",
       "      <td>0.903030</td>\n",
       "      <td>0.802826</td>\n",
       "      <td>00:45</td>\n",
       "    </tr>\n",
       "    <tr>\n",
       "      <td>27</td>\n",
       "      <td>0.076538</td>\n",
       "      <td>0.823788</td>\n",
       "      <td>0.821867</td>\n",
       "      <td>00:45</td>\n",
       "    </tr>\n",
       "    <tr>\n",
       "      <td>28</td>\n",
       "      <td>0.060806</td>\n",
       "      <td>0.809157</td>\n",
       "      <td>0.827396</td>\n",
       "      <td>00:44</td>\n",
       "    </tr>\n",
       "    <tr>\n",
       "      <td>29</td>\n",
       "      <td>0.065885</td>\n",
       "      <td>0.848462</td>\n",
       "      <td>0.825553</td>\n",
       "      <td>00:43</td>\n",
       "    </tr>\n",
       "    <tr>\n",
       "      <td>30</td>\n",
       "      <td>0.048745</td>\n",
       "      <td>0.823462</td>\n",
       "      <td>0.824324</td>\n",
       "      <td>00:43</td>\n",
       "    </tr>\n",
       "    <tr>\n",
       "      <td>31</td>\n",
       "      <td>0.041927</td>\n",
       "      <td>0.777247</td>\n",
       "      <td>0.836609</td>\n",
       "      <td>00:44</td>\n",
       "    </tr>\n",
       "    <tr>\n",
       "      <td>32</td>\n",
       "      <td>0.030460</td>\n",
       "      <td>0.791345</td>\n",
       "      <td>0.842138</td>\n",
       "      <td>00:43</td>\n",
       "    </tr>\n",
       "    <tr>\n",
       "      <td>33</td>\n",
       "      <td>0.033008</td>\n",
       "      <td>0.787408</td>\n",
       "      <td>0.839681</td>\n",
       "      <td>00:45</td>\n",
       "    </tr>\n",
       "    <tr>\n",
       "      <td>34</td>\n",
       "      <td>0.020104</td>\n",
       "      <td>0.763756</td>\n",
       "      <td>0.845823</td>\n",
       "      <td>00:48</td>\n",
       "    </tr>\n",
       "    <tr>\n",
       "      <td>35</td>\n",
       "      <td>0.021646</td>\n",
       "      <td>0.751845</td>\n",
       "      <td>0.848894</td>\n",
       "      <td>00:46</td>\n",
       "    </tr>\n",
       "    <tr>\n",
       "      <td>36</td>\n",
       "      <td>0.016567</td>\n",
       "      <td>0.753046</td>\n",
       "      <td>0.848894</td>\n",
       "      <td>00:45</td>\n",
       "    </tr>\n",
       "    <tr>\n",
       "      <td>37</td>\n",
       "      <td>0.015423</td>\n",
       "      <td>0.750674</td>\n",
       "      <td>0.850123</td>\n",
       "      <td>00:44</td>\n",
       "    </tr>\n",
       "    <tr>\n",
       "      <td>38</td>\n",
       "      <td>0.015227</td>\n",
       "      <td>0.751372</td>\n",
       "      <td>0.848280</td>\n",
       "      <td>00:44</td>\n",
       "    </tr>\n",
       "    <tr>\n",
       "      <td>39</td>\n",
       "      <td>0.015391</td>\n",
       "      <td>0.748629</td>\n",
       "      <td>0.843980</td>\n",
       "      <td>00:45</td>\n",
       "    </tr>\n",
       "  </tbody>\n",
       "</table>"
      ],
      "text/plain": [
       "<IPython.core.display.HTML object>"
      ]
     },
     "metadata": {},
     "output_type": "display_data"
    },
    {
     "data": {
      "image/png": "[encoded data removed]",
      "text/plain": [
       "<Figure size 432x288 with 1 Axes>"
      ]
     },
     "metadata": {},
     "output_type": "display_data"
    }
   ],
   "source": [
    "lr = 2e-3\n",
    "wd = 1e-3\n",
    "learn.fit_one_cycle(40, max_lr=slice(lr/100, lr), wd=wd)\n",
    "# learn.fit_one_cycle(20, slice(lr/10, lr))"
   ]
  },
  {
   "cell_type": "code",
   "execution_count": 10,
   "metadata": {
    "hidden": true
   },
   "outputs": [],
   "source": [
    "learn.save('res50_20epochs_64bs_sz224_wd1e-3_lrslice')"
   ]
  }
 ],
 "metadata": {
  "kernelspec": {
   "display_name": "Python 3",
   "language": "python",
   "name": "python3"
  },
  "language_info": {
   "codemirror_mode": {
    "name": "ipython",
    "version": 3
   },
   "file_extension": ".py",
   "mimetype": "text/x-python",
   "name": "python",
   "nbconvert_exporter": "python",
   "pygments_lexer": "ipython3",
   "version": "3.7.3"
  }
 },
 "nbformat": 4,
 "nbformat_minor": 2
}
