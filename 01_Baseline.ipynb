{
 "cells": [
  {
   "cell_type": "code",
   "execution_count": 22,
   "metadata": {},
   "outputs": [],
   "source": [
    "from pathlib import Path\n",
    "import requests\n",
    "from tqdm.auto import tqdm\n",
    "import tarfile"
   ]
  },
  {
   "cell_type": "markdown",
   "metadata": {},
   "source": [
    "# Download and Untar Data"
   ]
  },
  {
   "cell_type": "code",
   "execution_count": 2,
   "metadata": {},
   "outputs": [],
   "source": [
    "WD_PATH = Path(\".\")\n",
    "DATA_PATH = WD_PATH / \"Data\""
   ]
  },
  {
   "cell_type": "code",
   "execution_count": 3,
   "metadata": {},
   "outputs": [],
   "source": [
    "if not DATA_PATH.exists():\n",
    "    DATA_PATH.mkdir()"
   ]
  },
  {
   "cell_type": "code",
   "execution_count": 44,
   "metadata": {},
   "outputs": [],
   "source": [
    "train_url = \"http://imagenet.stanford.edu/internal/car196/cars_train.tgz\"\n",
    "test_url = \"http://imagenet.stanford.edu/internal/car196/cars_test.tgz\"\n",
    "devkit_url = \"https://ai.stanford.edu/~jkrause/cars/car_devkit.tgz\""
   ]
  },
  {
   "cell_type": "code",
   "execution_count": 8,
   "metadata": {},
   "outputs": [
    {
     "data": {
      "text/plain": [
       "'cars_train.tgz'"
      ]
     },
     "execution_count": 8,
     "metadata": {},
     "output_type": "execute_result"
    }
   ],
   "source": [
    "train_url.split('/')[-1]"
   ]
  },
  {
   "cell_type": "code",
   "execution_count": 18,
   "metadata": {},
   "outputs": [],
   "source": [
    "def dl(url, dest_dir):\n",
    "    assert isinstance(dest_dir, Path), \"dest_dir must be a Path object\"\n",
    "    filename = url.split('/')[-1]\n",
    "    file_path = dest_dir / filename\n",
    "    if not file_path.exists():\n",
    "        with open(f'{dest_dir}/{filename}', 'wb') as f:\n",
    "            response = requests.get(url, stream=True)\n",
    "            total = int(response.headers.get('content-length'))\n",
    "            with tqdm(total=total, unit='B', unit_scale=True, desc=filename) as pbar:\n",
    "                for data in response.iter_content(chunk_size=1024*1024):\n",
    "                    f.write(data)\n",
    "                    pbar.update(1024*1024)\n",
    "    else:\n",
    "        return file_path\n",
    "    return file_path"
   ]
  },
  {
   "cell_type": "code",
   "execution_count": 19,
   "metadata": {},
   "outputs": [],
   "source": [
    "train_tar_path = dl(train_url, DATA_PATH)"
   ]
  },
  {
   "cell_type": "code",
   "execution_count": 20,
   "metadata": {},
   "outputs": [],
   "source": [
    "test_tar_path = dl(test_url, DATA_PATH)"
   ]
  },
  {
   "cell_type": "code",
   "execution_count": 45,
   "metadata": {},
   "outputs": [
    {
     "data": {
      "application/vnd.jupyter.widget-view+json": {
       "model_id": "5883738d8e844068bb69a974ed3c47a1",
       "version_major": 2,
       "version_minor": 0
      },
      "text/plain": [
       "HBox(children=(IntProgress(value=0, description='car_devkit.tgz', max=330960, style=ProgressStyle(description_…"
      ]
     },
     "metadata": {},
     "output_type": "display_data"
    }
   ],
   "source": [
    "devkit_tar_path = dl(devkit_url, DATA_PATH)"
   ]
  },
  {
   "cell_type": "code",
   "execution_count": 53,
   "metadata": {},
   "outputs": [],
   "source": [
    "def untar_tgz(tgz_path, dest_dir):\n",
    "    assert isinstance(tgz_path, Path), \"tgz_path must be a Path object\"\n",
    "    assert tgz_path.exists(), \"tgz_path does not exists\"\n",
    "    assert tgz_path.suffix == \".tgz\", \"tgz_path is not a .tgz file\"\n",
    "    if tgz_path.stem == \"car_devkit\":\n",
    "        final_path = dest_dir / \"devkit\"\n",
    "    else:\n",
    "        final_path = dest_dir / tgz_path.stem\n",
    "    if not final_path.exists():\n",
    "        tar = tarfile.open(tgz_path, 'r:gz')\n",
    "        tar.extractall(dest_dir)\n",
    "    return final_path"
   ]
  },
  {
   "cell_type": "code",
   "execution_count": 54,
   "metadata": {},
   "outputs": [],
   "source": [
    "train_path = untar_tgz(train_tar_path, DATA_PATH)"
   ]
  },
  {
   "cell_type": "code",
   "execution_count": 55,
   "metadata": {},
   "outputs": [],
   "source": [
    "test_path = untar_tgz(test_tar_path, DATA_PATH)"
   ]
  },
  {
   "cell_type": "code",
   "execution_count": 56,
   "metadata": {},
   "outputs": [],
   "source": [
    "devkit_path = untar_tgz(devkit_tar_path, DATA_PATH)"
   ]
  },
  {
   "cell_type": "markdown",
   "metadata": {},
   "source": [
    "# Explore"
   ]
  },
  {
   "cell_type": "code",
   "execution_count": 57,
   "metadata": {},
   "outputs": [
    {
     "name": "stdout",
     "output_type": "stream",
     "text": [
      "cars_meta.mat\t     cars_train_annos.mat  README.txt\r\n",
      "cars_test_annos.mat  eval_train.m\t   train_perfect_preds.txt\r\n"
     ]
    }
   ],
   "source": [
    "!ls {str(devkit_path.resolve())}"
   ]
  },
  {
   "cell_type": "code",
   "execution_count": null,
   "metadata": {},
   "outputs": [],
   "source": []
  }
 ],
 "metadata": {
  "kernelspec": {
   "display_name": "Python 3",
   "language": "python",
   "name": "python3"
  },
  "language_info": {
   "codemirror_mode": {
    "name": "ipython",
    "version": 3
   },
   "file_extension": ".py",
   "mimetype": "text/x-python",
   "name": "python",
   "nbconvert_exporter": "python",
   "pygments_lexer": "ipython3",
   "version": "3.7.3"
  }
 },
 "nbformat": 4,
 "nbformat_minor": 2
}
