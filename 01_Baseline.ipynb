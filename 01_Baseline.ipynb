{
 "cells": [
  {
   "cell_type": "code",
   "execution_count": 122,
   "metadata": {},
   "outputs": [],
   "source": [
    "from pathlib import Path\n",
    "import requests\n",
    "from tqdm.auto import tqdm\n",
    "import tarfile\n",
    "import matplotlib.pyplot as plt\n",
    "import numpy as np\n",
    "import scipy\n",
    "import pandas as pd"
   ]
  },
  {
   "cell_type": "markdown",
   "metadata": {},
   "source": [
    "# Download and Untar Data"
   ]
  },
  {
   "cell_type": "code",
   "execution_count": 2,
   "metadata": {},
   "outputs": [],
   "source": [
    "WD_PATH = Path(\".\")\n",
    "DATA_PATH = WD_PATH / \"Data\""
   ]
  },
  {
   "cell_type": "code",
   "execution_count": 3,
   "metadata": {},
   "outputs": [],
   "source": [
    "if not DATA_PATH.exists():\n",
    "    DATA_PATH.mkdir()"
   ]
  },
  {
   "cell_type": "code",
   "execution_count": 228,
   "metadata": {},
   "outputs": [],
   "source": [
    "train_url = \"http://imagenet.stanford.edu/internal/car196/cars_train.tgz\"\n",
    "test_url = \"http://imagenet.stanford.edu/internal/car196/cars_test.tgz\"\n",
    "devkit_url = \"https://ai.stanford.edu/~jkrause/cars/car_devkit.tgz\"\n",
    "test_annos_withlabels_url = \"http://imagenet.stanford.edu/internal/car196/cars_test_annos_withlabels.mat\""
   ]
  },
  {
   "cell_type": "code",
   "execution_count": 8,
   "metadata": {},
   "outputs": [
    {
     "data": {
      "text/plain": [
       "'cars_train.tgz'"
      ]
     },
     "execution_count": 8,
     "metadata": {},
     "output_type": "execute_result"
    }
   ],
   "source": [
    "train_url.split('/')[-1]"
   ]
  },
  {
   "cell_type": "code",
   "execution_count": 18,
   "metadata": {},
   "outputs": [],
   "source": [
    "def dl(url, dest_dir):\n",
    "    assert isinstance(dest_dir, Path), \"dest_dir must be a Path object\"\n",
    "    filename = url.split('/')[-1]\n",
    "    file_path = dest_dir / filename\n",
    "    if not file_path.exists():\n",
    "        with open(f'{dest_dir}/{filename}', 'wb') as f:\n",
    "            response = requests.get(url, stream=True)\n",
    "            total = int(response.headers.get('content-length'))\n",
    "            with tqdm(total=total, unit='B', unit_scale=True, desc=filename) as pbar:\n",
    "                for data in response.iter_content(chunk_size=1024*1024):\n",
    "                    f.write(data)\n",
    "                    pbar.update(1024*1024)\n",
    "    else:\n",
    "        return file_path\n",
    "    return file_path"
   ]
  },
  {
   "cell_type": "code",
   "execution_count": 19,
   "metadata": {},
   "outputs": [],
   "source": [
    "train_tar_path = dl(train_url, DATA_PATH)"
   ]
  },
  {
   "cell_type": "code",
   "execution_count": 20,
   "metadata": {},
   "outputs": [],
   "source": [
    "test_tar_path = dl(test_url, DATA_PATH)"
   ]
  },
  {
   "cell_type": "code",
   "execution_count": 45,
   "metadata": {},
   "outputs": [
    {
     "data": {
      "application/vnd.jupyter.widget-view+json": {
       "model_id": "5883738d8e844068bb69a974ed3c47a1",
       "version_major": 2,
       "version_minor": 0
      },
      "text/plain": [
       "HBox(children=(IntProgress(value=0, description='car_devkit.tgz', max=330960, style=ProgressStyle(description_…"
      ]
     },
     "metadata": {},
     "output_type": "display_data"
    }
   ],
   "source": [
    "devkit_tar_path = dl(devkit_url, DATA_PATH)"
   ]
  },
  {
   "cell_type": "code",
   "execution_count": 229,
   "metadata": {},
   "outputs": [
    {
     "data": {
      "application/vnd.jupyter.widget-view+json": {
       "model_id": "8fad7189b74c4e8eac0f3811fb6e45d2",
       "version_major": 2,
       "version_minor": 0
      },
      "text/plain": [
       "HBox(children=(IntProgress(value=0, description='cars_test_annos_withlabels.mat', max=185758, style=ProgressSt…"
      ]
     },
     "metadata": {},
     "output_type": "display_data"
    },
    {
     "data": {
      "text/plain": [
       "PosixPath('Data/cars_test_annos_withlabels.mat')"
      ]
     },
     "execution_count": 229,
     "metadata": {},
     "output_type": "execute_result"
    }
   ],
   "source": []
  },
  {
   "cell_type": "code",
   "execution_count": 53,
   "metadata": {},
   "outputs": [],
   "source": [
    "def untar_tgz(tgz_path, dest_dir):\n",
    "    assert isinstance(tgz_path, Path), \"tgz_path must be a Path object\"\n",
    "    assert tgz_path.exists(), \"tgz_path does not exists\"\n",
    "    assert tgz_path.suffix == \".tgz\", \"tgz_path is not a .tgz file\"\n",
    "    if tgz_path.stem == \"car_devkit\":\n",
    "        final_path = dest_dir / \"devkit\"\n",
    "    else:\n",
    "        final_path = dest_dir / tgz_path.stem\n",
    "    if not final_path.exists():\n",
    "        tar = tarfile.open(tgz_path, 'r:gz')\n",
    "        tar.extractall(dest_dir)\n",
    "    return final_path"
   ]
  },
  {
   "cell_type": "code",
   "execution_count": 54,
   "metadata": {},
   "outputs": [],
   "source": [
    "train_path = untar_tgz(train_tar_path, DATA_PATH)"
   ]
  },
  {
   "cell_type": "code",
   "execution_count": 55,
   "metadata": {},
   "outputs": [],
   "source": [
    "test_path = untar_tgz(test_tar_path, DATA_PATH)"
   ]
  },
  {
   "cell_type": "code",
   "execution_count": 56,
   "metadata": {},
   "outputs": [],
   "source": [
    "devkit_path = untar_tgz(devkit_tar_path, DATA_PATH)"
   ]
  },
  {
   "cell_type": "code",
   "execution_count": 230,
   "metadata": {},
   "outputs": [
    {
     "data": {
      "application/vnd.jupyter.widget-view+json": {
       "model_id": "3c55b1c3da9b42f282ac0105d314736c",
       "version_major": 2,
       "version_minor": 0
      },
      "text/plain": [
       "HBox(children=(IntProgress(value=0, description='cars_test_annos_withlabels.mat', max=185758, style=ProgressSt…"
      ]
     },
     "metadata": {},
     "output_type": "display_data"
    },
    {
     "data": {
      "text/plain": [
       "PosixPath('Data/devkit/cars_test_annos_withlabels.mat')"
      ]
     },
     "execution_count": 230,
     "metadata": {},
     "output_type": "execute_result"
    }
   ],
   "source": [
    "dl(test_annos_withlabels_url, devkit_path)"
   ]
  },
  {
   "cell_type": "markdown",
   "metadata": {},
   "source": [
    "# Explore"
   ]
  },
  {
   "cell_type": "code",
   "execution_count": 231,
   "metadata": {},
   "outputs": [
    {
     "name": "stdout",
     "output_type": "stream",
     "text": [
      "cars_meta.mat\t\t\tcars_train_annos.mat  train_perfect_preds.txt\r\n",
      "cars_test_annos.mat\t\teval_train.m\r\n",
      "cars_test_annos_withlabels.mat\tREADME.txt\r\n"
     ]
    }
   ],
   "source": [
    "!ls {str(devkit_path.resolve())}"
   ]
  },
  {
   "cell_type": "code",
   "execution_count": 115,
   "metadata": {},
   "outputs": [],
   "source": [
    "cars_meta = scipy.io.loadmat(devkit_path / \"cars_meta.mat\")"
   ]
  },
  {
   "cell_type": "code",
   "execution_count": 116,
   "metadata": {},
   "outputs": [
    {
     "data": {
      "text/plain": [
       "array([[array(['AM General Hummer SUV 2000'], dtype='<U26'),\n",
       "        array(['Acura RL Sedan 2012'], dtype='<U19'),\n",
       "        array(['Acura TL Sedan 2012'], dtype='<U19'),\n",
       "        array(['Acura TL Type-S 2008'], dtype='<U20'),\n",
       "        array(['Acura TSX Sedan 2012'], dtype='<U20'),\n",
       "        array(['Acura Integra Type R 2001'], dtype='<U25'),\n",
       "        array(['Acura ZDX Hatchback 2012'], dtype='<U24'),\n",
       "        array(['Aston Martin V8 Vantage Convertible 2012'], dtype='<U40'),\n",
       "        array(['Aston Martin V8 Vantage Coupe 2012'], dtype='<U34'),\n",
       "        array(['Aston Martin Virage Convertible 2012'], dtype='<U36'),\n",
       "        array(['Aston Martin Virage Coupe 2012'], dtype='<U30'),\n",
       "        array(['Audi RS 4 Convertible 2008'], dtype='<U26'),\n",
       "        array(['Audi A5 Coupe 2012'], dtype='<U18'),\n",
       "        array(['Audi TTS Coupe 2012'], dtype='<U19'),\n",
       "        array(['Audi R8 Coupe 2012'], dtype='<U18'),\n",
       "        array(['Audi V8 Sedan 1994'], dtype='<U18'),\n",
       "        array(['Audi 100 Sedan 1994'], dtype='<U19'),\n",
       "        array(['Audi 100 Wagon 1994'], dtype='<U19'),\n",
       "        array(['Audi TT Hatchback 2011'], dtype='<U22'),\n",
       "        array(['Audi S6 Sedan 2011'], dtype='<U18'),\n",
       "        array(['Audi S5 Convertible 2012'], dtype='<U24'),\n",
       "        array(['Audi S5 Coupe 2012'], dtype='<U18'),\n",
       "        array(['Audi S4 Sedan 2012'], dtype='<U18'),\n",
       "        array(['Audi S4 Sedan 2007'], dtype='<U18'),\n",
       "        array(['Audi TT RS Coupe 2012'], dtype='<U21'),\n",
       "        array(['BMW ActiveHybrid 5 Sedan 2012'], dtype='<U29'),\n",
       "        array(['BMW 1 Series Convertible 2012'], dtype='<U29'),\n",
       "        array(['BMW 1 Series Coupe 2012'], dtype='<U23'),\n",
       "        array(['BMW 3 Series Sedan 2012'], dtype='<U23'),\n",
       "        array(['BMW 3 Series Wagon 2012'], dtype='<U23'),\n",
       "        array(['BMW 6 Series Convertible 2007'], dtype='<U29'),\n",
       "        array(['BMW X5 SUV 2007'], dtype='<U15'),\n",
       "        array(['BMW X6 SUV 2012'], dtype='<U15'),\n",
       "        array(['BMW M3 Coupe 2012'], dtype='<U17'),\n",
       "        array(['BMW M5 Sedan 2010'], dtype='<U17'),\n",
       "        array(['BMW M6 Convertible 2010'], dtype='<U23'),\n",
       "        array(['BMW X3 SUV 2012'], dtype='<U15'),\n",
       "        array(['BMW Z4 Convertible 2012'], dtype='<U23'),\n",
       "        array(['Bentley Continental Supersports Conv. Convertible 2012'],\n",
       "      dtype='<U54'),\n",
       "        array(['Bentley Arnage Sedan 2009'], dtype='<U25'),\n",
       "        array(['Bentley Mulsanne Sedan 2011'], dtype='<U27'),\n",
       "        array(['Bentley Continental GT Coupe 2012'], dtype='<U33'),\n",
       "        array(['Bentley Continental GT Coupe 2007'], dtype='<U33'),\n",
       "        array(['Bentley Continental Flying Spur Sedan 2007'], dtype='<U42'),\n",
       "        array(['Bugatti Veyron 16.4 Convertible 2009'], dtype='<U36'),\n",
       "        array(['Bugatti Veyron 16.4 Coupe 2009'], dtype='<U30'),\n",
       "        array(['Buick Regal GS 2012'], dtype='<U19'),\n",
       "        array(['Buick Rainier SUV 2007'], dtype='<U22'),\n",
       "        array(['Buick Verano Sedan 2012'], dtype='<U23'),\n",
       "        array(['Buick Enclave SUV 2012'], dtype='<U22'),\n",
       "        array(['Cadillac CTS-V Sedan 2012'], dtype='<U25'),\n",
       "        array(['Cadillac SRX SUV 2012'], dtype='<U21'),\n",
       "        array(['Cadillac Escalade EXT Crew Cab 2007'], dtype='<U35'),\n",
       "        array(['Chevrolet Silverado 1500 Hybrid Crew Cab 2012'], dtype='<U45'),\n",
       "        array(['Chevrolet Corvette Convertible 2012'], dtype='<U35'),\n",
       "        array(['Chevrolet Corvette ZR1 2012'], dtype='<U27'),\n",
       "        array(['Chevrolet Corvette Ron Fellows Edition Z06 2007'], dtype='<U47'),\n",
       "        array(['Chevrolet Traverse SUV 2012'], dtype='<U27'),\n",
       "        array(['Chevrolet Camaro Convertible 2012'], dtype='<U33'),\n",
       "        array(['Chevrolet HHR SS 2010'], dtype='<U21'),\n",
       "        array(['Chevrolet Impala Sedan 2007'], dtype='<U27'),\n",
       "        array(['Chevrolet Tahoe Hybrid SUV 2012'], dtype='<U31'),\n",
       "        array(['Chevrolet Sonic Sedan 2012'], dtype='<U26'),\n",
       "        array(['Chevrolet Express Cargo Van 2007'], dtype='<U32'),\n",
       "        array(['Chevrolet Avalanche Crew Cab 2012'], dtype='<U33'),\n",
       "        array(['Chevrolet Cobalt SS 2010'], dtype='<U24'),\n",
       "        array(['Chevrolet Malibu Hybrid Sedan 2010'], dtype='<U34'),\n",
       "        array(['Chevrolet TrailBlazer SS 2009'], dtype='<U29'),\n",
       "        array(['Chevrolet Silverado 2500HD Regular Cab 2012'], dtype='<U43'),\n",
       "        array(['Chevrolet Silverado 1500 Classic Extended Cab 2007'], dtype='<U50'),\n",
       "        array(['Chevrolet Express Van 2007'], dtype='<U26'),\n",
       "        array(['Chevrolet Monte Carlo Coupe 2007'], dtype='<U32'),\n",
       "        array(['Chevrolet Malibu Sedan 2007'], dtype='<U27'),\n",
       "        array(['Chevrolet Silverado 1500 Extended Cab 2012'], dtype='<U42'),\n",
       "        array(['Chevrolet Silverado 1500 Regular Cab 2012'], dtype='<U41'),\n",
       "        array(['Chrysler Aspen SUV 2009'], dtype='<U23'),\n",
       "        array(['Chrysler Sebring Convertible 2010'], dtype='<U33'),\n",
       "        array(['Chrysler Town and Country Minivan 2012'], dtype='<U38'),\n",
       "        array(['Chrysler 300 SRT-8 2010'], dtype='<U23'),\n",
       "        array(['Chrysler Crossfire Convertible 2008'], dtype='<U35'),\n",
       "        array(['Chrysler PT Cruiser Convertible 2008'], dtype='<U36'),\n",
       "        array(['Daewoo Nubira Wagon 2002'], dtype='<U24'),\n",
       "        array(['Dodge Caliber Wagon 2012'], dtype='<U24'),\n",
       "        array(['Dodge Caliber Wagon 2007'], dtype='<U24'),\n",
       "        array(['Dodge Caravan Minivan 1997'], dtype='<U26'),\n",
       "        array(['Dodge Ram Pickup 3500 Crew Cab 2010'], dtype='<U35'),\n",
       "        array(['Dodge Ram Pickup 3500 Quad Cab 2009'], dtype='<U35'),\n",
       "        array(['Dodge Sprinter Cargo Van 2009'], dtype='<U29'),\n",
       "        array(['Dodge Journey SUV 2012'], dtype='<U22'),\n",
       "        array(['Dodge Dakota Crew Cab 2010'], dtype='<U26'),\n",
       "        array(['Dodge Dakota Club Cab 2007'], dtype='<U26'),\n",
       "        array(['Dodge Magnum Wagon 2008'], dtype='<U23'),\n",
       "        array(['Dodge Challenger SRT8 2011'], dtype='<U26'),\n",
       "        array(['Dodge Durango SUV 2012'], dtype='<U22'),\n",
       "        array(['Dodge Durango SUV 2007'], dtype='<U22'),\n",
       "        array(['Dodge Charger Sedan 2012'], dtype='<U24'),\n",
       "        array(['Dodge Charger SRT-8 2009'], dtype='<U24'),\n",
       "        array(['Eagle Talon Hatchback 1998'], dtype='<U26'),\n",
       "        array(['FIAT 500 Abarth 2012'], dtype='<U20'),\n",
       "        array(['FIAT 500 Convertible 2012'], dtype='<U25'),\n",
       "        array(['Ferrari FF Coupe 2012'], dtype='<U21'),\n",
       "        array(['Ferrari California Convertible 2012'], dtype='<U35'),\n",
       "        array(['Ferrari 458 Italia Convertible 2012'], dtype='<U35'),\n",
       "        array(['Ferrari 458 Italia Coupe 2012'], dtype='<U29'),\n",
       "        array(['Fisker Karma Sedan 2012'], dtype='<U23'),\n",
       "        array(['Ford F-450 Super Duty Crew Cab 2012'], dtype='<U35'),\n",
       "        array(['Ford Mustang Convertible 2007'], dtype='<U29'),\n",
       "        array(['Ford Freestar Minivan 2007'], dtype='<U26'),\n",
       "        array(['Ford Expedition EL SUV 2009'], dtype='<U27'),\n",
       "        array(['Ford Edge SUV 2012'], dtype='<U18'),\n",
       "        array(['Ford Ranger SuperCab 2011'], dtype='<U25'),\n",
       "        array(['Ford GT Coupe 2006'], dtype='<U18'),\n",
       "        array(['Ford F-150 Regular Cab 2012'], dtype='<U27'),\n",
       "        array(['Ford F-150 Regular Cab 2007'], dtype='<U27'),\n",
       "        array(['Ford Focus Sedan 2007'], dtype='<U21'),\n",
       "        array(['Ford E-Series Wagon Van 2012'], dtype='<U28'),\n",
       "        array(['Ford Fiesta Sedan 2012'], dtype='<U22'),\n",
       "        array(['GMC Terrain SUV 2012'], dtype='<U20'),\n",
       "        array(['GMC Savana Van 2012'], dtype='<U19'),\n",
       "        array(['GMC Yukon Hybrid SUV 2012'], dtype='<U25'),\n",
       "        array(['GMC Acadia SUV 2012'], dtype='<U19'),\n",
       "        array(['GMC Canyon Extended Cab 2012'], dtype='<U28'),\n",
       "        array(['Geo Metro Convertible 1993'], dtype='<U26'),\n",
       "        array(['HUMMER H3T Crew Cab 2010'], dtype='<U24'),\n",
       "        array(['HUMMER H2 SUT Crew Cab 2009'], dtype='<U27'),\n",
       "        array(['Honda Odyssey Minivan 2012'], dtype='<U26'),\n",
       "        array(['Honda Odyssey Minivan 2007'], dtype='<U26'),\n",
       "        array(['Honda Accord Coupe 2012'], dtype='<U23'),\n",
       "        array(['Honda Accord Sedan 2012'], dtype='<U23'),\n",
       "        array(['Hyundai Veloster Hatchback 2012'], dtype='<U31'),\n",
       "        array(['Hyundai Santa Fe SUV 2012'], dtype='<U25'),\n",
       "        array(['Hyundai Tucson SUV 2012'], dtype='<U23'),\n",
       "        array(['Hyundai Veracruz SUV 2012'], dtype='<U25'),\n",
       "        array(['Hyundai Sonata Hybrid Sedan 2012'], dtype='<U32'),\n",
       "        array(['Hyundai Elantra Sedan 2007'], dtype='<U26'),\n",
       "        array(['Hyundai Accent Sedan 2012'], dtype='<U25'),\n",
       "        array(['Hyundai Genesis Sedan 2012'], dtype='<U26'),\n",
       "        array(['Hyundai Sonata Sedan 2012'], dtype='<U25'),\n",
       "        array(['Hyundai Elantra Touring Hatchback 2012'], dtype='<U38'),\n",
       "        array(['Hyundai Azera Sedan 2012'], dtype='<U24'),\n",
       "        array(['Infiniti G Coupe IPL 2012'], dtype='<U25'),\n",
       "        array(['Infiniti QX56 SUV 2011'], dtype='<U22'),\n",
       "        array(['Isuzu Ascender SUV 2008'], dtype='<U23'),\n",
       "        array(['Jaguar XK XKR 2012'], dtype='<U18'),\n",
       "        array(['Jeep Patriot SUV 2012'], dtype='<U21'),\n",
       "        array(['Jeep Wrangler SUV 2012'], dtype='<U22'),\n",
       "        array(['Jeep Liberty SUV 2012'], dtype='<U21'),\n",
       "        array(['Jeep Grand Cherokee SUV 2012'], dtype='<U28'),\n",
       "        array(['Jeep Compass SUV 2012'], dtype='<U21'),\n",
       "        array(['Lamborghini Reventon Coupe 2008'], dtype='<U31'),\n",
       "        array(['Lamborghini Aventador Coupe 2012'], dtype='<U32'),\n",
       "        array(['Lamborghini Gallardo LP 570-4 Superleggera 2012'], dtype='<U47'),\n",
       "        array(['Lamborghini Diablo Coupe 2001'], dtype='<U29'),\n",
       "        array(['Land Rover Range Rover SUV 2012'], dtype='<U31'),\n",
       "        array(['Land Rover LR2 SUV 2012'], dtype='<U23'),\n",
       "        array(['Lincoln Town Car Sedan 2011'], dtype='<U27'),\n",
       "        array(['MINI Cooper Roadster Convertible 2012'], dtype='<U37'),\n",
       "        array(['Maybach Landaulet Convertible 2012'], dtype='<U34'),\n",
       "        array(['Mazda Tribute SUV 2011'], dtype='<U22'),\n",
       "        array(['McLaren MP4-12C Coupe 2012'], dtype='<U26'),\n",
       "        array(['Mercedes-Benz 300-Class Convertible 1993'], dtype='<U40'),\n",
       "        array(['Mercedes-Benz C-Class Sedan 2012'], dtype='<U32'),\n",
       "        array(['Mercedes-Benz SL-Class Coupe 2009'], dtype='<U33'),\n",
       "        array(['Mercedes-Benz E-Class Sedan 2012'], dtype='<U32'),\n",
       "        array(['Mercedes-Benz S-Class Sedan 2012'], dtype='<U32'),\n",
       "        array(['Mercedes-Benz Sprinter Van 2012'], dtype='<U31'),\n",
       "        array(['Mitsubishi Lancer Sedan 2012'], dtype='<U28'),\n",
       "        array(['Nissan Leaf Hatchback 2012'], dtype='<U26'),\n",
       "        array(['Nissan NV Passenger Van 2012'], dtype='<U28'),\n",
       "        array(['Nissan Juke Hatchback 2012'], dtype='<U26'),\n",
       "        array(['Nissan 240SX Coupe 1998'], dtype='<U23'),\n",
       "        array(['Plymouth Neon Coupe 1999'], dtype='<U24'),\n",
       "        array(['Porsche Panamera Sedan 2012'], dtype='<U27'),\n",
       "        array(['Ram C/V Cargo Van Minivan 2012'], dtype='<U30'),\n",
       "        array(['Rolls-Royce Phantom Drophead Coupe Convertible 2012'],\n",
       "      dtype='<U51'),\n",
       "        array(['Rolls-Royce Ghost Sedan 2012'], dtype='<U28'),\n",
       "        array(['Rolls-Royce Phantom Sedan 2012'], dtype='<U30'),\n",
       "        array(['Scion xD Hatchback 2012'], dtype='<U23'),\n",
       "        array(['Spyker C8 Convertible 2009'], dtype='<U26'),\n",
       "        array(['Spyker C8 Coupe 2009'], dtype='<U20'),\n",
       "        array(['Suzuki Aerio Sedan 2007'], dtype='<U23'),\n",
       "        array(['Suzuki Kizashi Sedan 2012'], dtype='<U25'),\n",
       "        array(['Suzuki SX4 Hatchback 2012'], dtype='<U25'),\n",
       "        array(['Suzuki SX4 Sedan 2012'], dtype='<U21'),\n",
       "        array(['Tesla Model S Sedan 2012'], dtype='<U24'),\n",
       "        array(['Toyota Sequoia SUV 2012'], dtype='<U23'),\n",
       "        array(['Toyota Camry Sedan 2012'], dtype='<U23'),\n",
       "        array(['Toyota Corolla Sedan 2012'], dtype='<U25'),\n",
       "        array(['Toyota 4Runner SUV 2012'], dtype='<U23'),\n",
       "        array(['Volkswagen Golf Hatchback 2012'], dtype='<U30'),\n",
       "        array(['Volkswagen Golf Hatchback 1991'], dtype='<U30'),\n",
       "        array(['Volkswagen Beetle Hatchback 2012'], dtype='<U32'),\n",
       "        array(['Volvo C30 Hatchback 2012'], dtype='<U24'),\n",
       "        array(['Volvo 240 Sedan 1993'], dtype='<U20'),\n",
       "        array(['Volvo XC90 SUV 2007'], dtype='<U19'),\n",
       "        array(['smart fortwo Convertible 2012'], dtype='<U29')]],\n",
       "      dtype=object)"
      ]
     },
     "execution_count": 116,
     "metadata": {},
     "output_type": "execute_result"
    }
   ],
   "source": [
    "cars_meta['class_names']"
   ]
  },
  {
   "cell_type": "code",
   "execution_count": 222,
   "metadata": {},
   "outputs": [],
   "source": [
    "cars_train_annos = scipy.io.loadmat(devkit_path / \"cars_test_annos.mat\")"
   ]
  },
  {
   "cell_type": "code",
   "execution_count": 223,
   "metadata": {},
   "outputs": [],
   "source": [
    "cars_train_annos = cars_train_annos['annotations'].squeeze()"
   ]
  },
  {
   "cell_type": "code",
   "execution_count": 224,
   "metadata": {
    "scrolled": true
   },
   "outputs": [
    {
     "data": {
      "text/plain": [
       "(8041,)"
      ]
     },
     "execution_count": 224,
     "metadata": {},
     "output_type": "execute_result"
    }
   ],
   "source": [
    "cars_train_annos.shape"
   ]
  },
  {
   "cell_type": "code",
   "execution_count": 225,
   "metadata": {},
   "outputs": [],
   "source": [
    "df = pd.DataFrame(cars_train_annos)\n",
    " "
   ]
  },
  {
   "cell_type": "code",
   "execution_count": 226,
   "metadata": {},
   "outputs": [
    {
     "data": {
      "text/html": [
       "<div>\n",
       "<style scoped>\n",
       "    .dataframe tbody tr th:only-of-type {\n",
       "        vertical-align: middle;\n",
       "    }\n",
       "\n",
       "    .dataframe tbody tr th {\n",
       "        vertical-align: top;\n",
       "    }\n",
       "\n",
       "    .dataframe thead th {\n",
       "        text-align: right;\n",
       "    }\n",
       "</style>\n",
       "<table border=\"1\" class=\"dataframe\">\n",
       "  <thead>\n",
       "    <tr style=\"text-align: right;\">\n",
       "      <th></th>\n",
       "      <th>bbox_x1</th>\n",
       "      <th>bbox_y1</th>\n",
       "      <th>bbox_x2</th>\n",
       "      <th>bbox_y2</th>\n",
       "      <th>fname</th>\n",
       "    </tr>\n",
       "  </thead>\n",
       "  <tbody>\n",
       "    <tr>\n",
       "      <th>0</th>\n",
       "      <td>[[30]]</td>\n",
       "      <td>[[52]]</td>\n",
       "      <td>[[246]]</td>\n",
       "      <td>[[147]]</td>\n",
       "      <td>[00001.jpg]</td>\n",
       "    </tr>\n",
       "    <tr>\n",
       "      <th>1</th>\n",
       "      <td>[[100]]</td>\n",
       "      <td>[[19]]</td>\n",
       "      <td>[[576]]</td>\n",
       "      <td>[[203]]</td>\n",
       "      <td>[00002.jpg]</td>\n",
       "    </tr>\n",
       "    <tr>\n",
       "      <th>2</th>\n",
       "      <td>[[51]]</td>\n",
       "      <td>[[105]]</td>\n",
       "      <td>[[968]]</td>\n",
       "      <td>[[659]]</td>\n",
       "      <td>[00003.jpg]</td>\n",
       "    </tr>\n",
       "    <tr>\n",
       "      <th>3</th>\n",
       "      <td>[[67]]</td>\n",
       "      <td>[[84]]</td>\n",
       "      <td>[[581]]</td>\n",
       "      <td>[[407]]</td>\n",
       "      <td>[00004.jpg]</td>\n",
       "    </tr>\n",
       "    <tr>\n",
       "      <th>4</th>\n",
       "      <td>[[140]]</td>\n",
       "      <td>[[151]]</td>\n",
       "      <td>[[593]]</td>\n",
       "      <td>[[339]]</td>\n",
       "      <td>[00005.jpg]</td>\n",
       "    </tr>\n",
       "  </tbody>\n",
       "</table>\n",
       "</div>"
      ],
      "text/plain": [
       "   bbox_x1  bbox_y1  bbox_x2  bbox_y2        fname\n",
       "0   [[30]]   [[52]]  [[246]]  [[147]]  [00001.jpg]\n",
       "1  [[100]]   [[19]]  [[576]]  [[203]]  [00002.jpg]\n",
       "2   [[51]]  [[105]]  [[968]]  [[659]]  [00003.jpg]\n",
       "3   [[67]]   [[84]]  [[581]]  [[407]]  [00004.jpg]\n",
       "4  [[140]]  [[151]]  [[593]]  [[339]]  [00005.jpg]"
      ]
     },
     "execution_count": 226,
     "metadata": {},
     "output_type": "execute_result"
    }
   ],
   "source": [
    "df.head()"
   ]
  },
  {
   "cell_type": "code",
   "execution_count": 209,
   "metadata": {},
   "outputs": [],
   "source": [
    "df = df.applymap(np.squeeze)"
   ]
  },
  {
   "cell_type": "code",
   "execution_count": 210,
   "metadata": {},
   "outputs": [
    {
     "data": {
      "text/html": [
       "<div>\n",
       "<style scoped>\n",
       "    .dataframe tbody tr th:only-of-type {\n",
       "        vertical-align: middle;\n",
       "    }\n",
       "\n",
       "    .dataframe tbody tr th {\n",
       "        vertical-align: top;\n",
       "    }\n",
       "\n",
       "    .dataframe thead th {\n",
       "        text-align: right;\n",
       "    }\n",
       "</style>\n",
       "<table border=\"1\" class=\"dataframe\">\n",
       "  <thead>\n",
       "    <tr style=\"text-align: right;\">\n",
       "      <th></th>\n",
       "      <th>bbox_x1</th>\n",
       "      <th>bbox_y1</th>\n",
       "      <th>bbox_x2</th>\n",
       "      <th>bbox_y2</th>\n",
       "      <th>class</th>\n",
       "      <th>fname</th>\n",
       "    </tr>\n",
       "  </thead>\n",
       "  <tbody>\n",
       "    <tr>\n",
       "      <th>0</th>\n",
       "      <td>39</td>\n",
       "      <td>116</td>\n",
       "      <td>569</td>\n",
       "      <td>375</td>\n",
       "      <td>14</td>\n",
       "      <td>00001.jpg</td>\n",
       "    </tr>\n",
       "    <tr>\n",
       "      <th>1</th>\n",
       "      <td>36</td>\n",
       "      <td>116</td>\n",
       "      <td>868</td>\n",
       "      <td>587</td>\n",
       "      <td>3</td>\n",
       "      <td>00002.jpg</td>\n",
       "    </tr>\n",
       "    <tr>\n",
       "      <th>2</th>\n",
       "      <td>85</td>\n",
       "      <td>109</td>\n",
       "      <td>601</td>\n",
       "      <td>381</td>\n",
       "      <td>91</td>\n",
       "      <td>00003.jpg</td>\n",
       "    </tr>\n",
       "    <tr>\n",
       "      <th>3</th>\n",
       "      <td>621</td>\n",
       "      <td>393</td>\n",
       "      <td>1484</td>\n",
       "      <td>1096</td>\n",
       "      <td>134</td>\n",
       "      <td>00004.jpg</td>\n",
       "    </tr>\n",
       "    <tr>\n",
       "      <th>4</th>\n",
       "      <td>14</td>\n",
       "      <td>36</td>\n",
       "      <td>133</td>\n",
       "      <td>99</td>\n",
       "      <td>106</td>\n",
       "      <td>00005.jpg</td>\n",
       "    </tr>\n",
       "  </tbody>\n",
       "</table>\n",
       "</div>"
      ],
      "text/plain": [
       "   bbox_x1  bbox_y1  bbox_x2  bbox_y2  class      fname\n",
       "0       39      116      569      375     14  00001.jpg\n",
       "1       36      116      868      587      3  00002.jpg\n",
       "2       85      109      601      381     91  00003.jpg\n",
       "3      621      393     1484     1096    134  00004.jpg\n",
       "4       14       36      133       99    106  00005.jpg"
      ]
     },
     "execution_count": 210,
     "metadata": {},
     "output_type": "execute_result"
    }
   ],
   "source": [
    "df.head()"
   ]
  },
  {
   "cell_type": "code",
   "execution_count": 211,
   "metadata": {},
   "outputs": [],
   "source": [
    "df_labels = df[['fname', 'class']]"
   ]
  },
  {
   "cell_type": "code",
   "execution_count": 214,
   "metadata": {},
   "outputs": [],
   "source": [
    "df_labels.to_csv('./Data/train_labels.csv')"
   ]
  },
  {
   "cell_type": "code",
   "execution_count": 235,
   "metadata": {},
   "outputs": [],
   "source": [
    "def get_labels_df(annos_matfile):\n",
    "    assert annos_matfile in ['cars_train_annos.mat', 'cars_test_annos_withlabels.mat'], \\\n",
    "           \"Please select 'cars_train_annos.mat' or 'cars_test_annos_withlabels.mat'\"\n",
    "           \n",
    "    cars_annos = scipy.io.loadmat(devkit_path / annos_matfile)\n",
    "    cars_annos = cars_annos['annotations'].squeeze()\n",
    "    df = pd.DataFrame(cars_annos)\n",
    "    df = df.applymap(np.squeeze)\n",
    "    return df[['fname', 'class']]"
   ]
  },
  {
   "cell_type": "code",
   "execution_count": 236,
   "metadata": {},
   "outputs": [],
   "source": [
    "train_labels = get_labels_df('cars_train_annos.mat')\n",
    "test_labels = get_labels_df('cars_test_annos_withlabels.mat')"
   ]
  },
  {
   "cell_type": "code",
   "execution_count": null,
   "metadata": {},
   "outputs": [],
   "source": []
  },
  {
   "cell_type": "code",
   "execution_count": null,
   "metadata": {},
   "outputs": [],
   "source": [
    "train_imgs = list(train_path.glob(\"*\"))\n",
    "def show_img(imgs_list):\n",
    "    idx = np.random.randint(len(train_imgs))\n",
    "    img = plt.imread(imgs_list[idx])\n",
    "    plt.imshow(img)"
   ]
  },
  {
   "cell_type": "code",
   "execution_count": null,
   "metadata": {},
   "outputs": [],
   "source": []
  }
 ],
 "metadata": {
  "kernelspec": {
   "display_name": "Python 3",
   "language": "python",
   "name": "python3"
  },
  "language_info": {
   "codemirror_mode": {
    "name": "ipython",
    "version": 3
   },
   "file_extension": ".py",
   "mimetype": "text/x-python",
   "name": "python",
   "nbconvert_exporter": "python",
   "pygments_lexer": "ipython3",
   "version": "3.7.3"
  }
 },
 "nbformat": 4,
 "nbformat_minor": 2
}
